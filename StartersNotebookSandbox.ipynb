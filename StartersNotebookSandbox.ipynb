{
 "cells": [
  {
   "cell_type": "markdown",
   "id": "66de6257-d574-4e69-8359-4fb4da284868",
   "metadata": {
    "id": "66de6257-d574-4e69-8359-4fb4da284868"
   },
   "source": [
    "# Slightly Off the Beaten Path - Starter Notebook\n",
    "\n",
    "The Sandbox version of the larger [Off the Beaten Path Challenge](https://xeek.ai/challenges/off-the-beaten-path)."
   ]
  },
  {
   "cell_type": "markdown",
   "id": "d470a2b3-4324-4cc3-b85b-74e22382f977",
   "metadata": {
    "id": "d470a2b3-4324-4cc3-b85b-74e22382f977"
   },
   "source": [
    "# Problem Statement\n",
    "\"Off the Beaten Path\" Challenge is a more complex variation of a [traveling salesman](https://en.wikipedia.org/wiki/Travelling_salesman_problem) problem.  The problem presented here introduces additional constraints and degrees of freedom (variables).  The whole challenge aims to find the most optimal plan for exploration and reward extraction.  The solution to the challenge is not only the plan but also an algorithm that will be tested on holdout problem spaces; therefore, you have to keep in mind that you are developing a universal tool for finding a solution.  The problem can be summarized in the below points:\n",
    "\n",
    "### Goal\n",
    "1.  Goal of the challenge is to develop an algorithm that extracts as many rewards as possible in a given time, Budget, and graph.\n",
    "2.  Rewards are extracted from points on the graph called Sites.\n",
    "3.  Workers extract rewards.\n",
    "\n",
    "### Graph/Map\n",
    "1.  Graph, or map, is a set of connected points on the coordinate plane, which are called Verticies.\n",
    "2.  There are different types of Verticies:\n",
    "    * Origin - a starting point for every worker\n",
    "    * Basic - regular point in the graph\n",
    "    * Site - a point with a reward that can be extracted\n",
    "3.  Graph also contains Edges, which connect different Verticies.\n",
    "\n",
    "### Movement\n",
    "1.  A movement can happen only between connected Verticies.\n",
    "2.  In one timestep, a worker can move along one edge.\n",
    "\n",
    "### Rewards extraction\n",
    "1.  Rewards are extracted from Sites.\n",
    "2.  There are different types of Sites, each worth different levels of Rewards.\n",
    "3.  Specified types of workers can access each type of Site.  The extraction lasts for a specified number of time steps.  The greater the Reward, the greater number of extraction time steps.\n",
    "4.  If the extraction cannot be finished in a given amount of time specified by the constraint, it cannot be started.\n",
    "5.  The Reward from one Site can only be extracted once.  After it's extracted, it no longer produces a reward.\n",
    "\n",
    "### Workers\n",
    "1.  Workers have their cost per timestep, which depletes the Budget.\n",
    "2.  One can employ as many Workers for as many timesteps as the Budget allows.\n",
    "3.  Different Worker types have different costs.\n",
    "4.  Different Worker types can access different Sites:\n",
    "  * Worker 1 Type can access Type 1 sites.\n",
    "  * Worker 2 Type can access Type 1 and 2 Sites.\n",
    "  * Worker 3 Type can access Types 1, 2, and 3 Sites.\n",
    "6.  Each worker has to start their journey from the Origin vertex.\n",
    "\n",
    "\n",
    "The following notebook is a starting point for you on this challenge, demonstrating how to work with the problem space, create a submission, and an example solution for you to build on."
   ]
  },
  {
   "cell_type": "code",
   "execution_count": 7,
   "id": "030aa676",
   "metadata": {},
   "outputs": [
    {
     "name": "stdout",
     "output_type": "stream",
     "text": [
      "3.12.2 (v3.12.2:6abddd9f6a, Feb  6 2024, 17:02:06) [Clang 13.0.0 (clang-1300.0.29.30)]\n"
     ]
    }
   ],
   "source": [
    "import sys \n",
    "print(sys. version)"
   ]
  },
  {
   "cell_type": "markdown",
   "id": "ae772829-63e6-4d4b-ae24-49460a416602",
   "metadata": {
    "id": "ae772829-63e6-4d4b-ae24-49460a416602"
   },
   "source": [
    "## Contents\n",
    "1. Quickstart with prepared configuration\n",
    "2. Inspect the graph\n",
    "3. Sample solution\n",
    "4. Sample Submission\n",
    "5. Parameters for Test Graph\n",
    "6. Common errors and mistakes\n",
    "6. APPENDIX: Work with `Graph` object\n",
    "7. APPENDIX: Work with `Configuration` object"
   ]
  },
  {
   "cell_type": "code",
   "execution_count": 8,
   "id": "95320c44-6f1e-431f-a7d8-d9c31198688d",
   "metadata": {
    "id": "95320c44-6f1e-431f-a7d8-d9c31198688d",
    "tags": []
   },
   "outputs": [],
   "source": [
    "import random\n",
    "from copy import deepcopy\n",
    "from random import randint\n",
    "\n",
    "import lyra_graphtool_test as lgtool\n",
    "from lyra_graphtool_test import Configuration, Config_Single_Time, Edge, Graph, Graph_Type, Parameters, Vertex, Worker_Type, Vertex_Type"
   ]
  },
  {
   "cell_type": "markdown",
   "id": "853e7945-ea75-4024-9a9c-6924acc00a48",
   "metadata": {
    "id": "853e7945-ea75-4024-9a9c-6924acc00a48"
   },
   "source": [
    "## 1. Quickstart with prepared configuration\n",
    "\n",
    "Below we present way to load the graph and constraints prepared by us and start working on a problem.\n",
    "\n",
    "First of all you need to use `ProcessArgs.load()` method with argument and graph files."
   ]
  },
  {
   "cell_type": "code",
   "execution_count": 9,
   "id": "76d37a7b-7906-4db6-9698-83a994b11cb1",
   "metadata": {
    "id": "76d37a7b-7906-4db6-9698-83a994b11cb1",
    "tags": []
   },
   "outputs": [],
   "source": [
    "pargs = lgtool.ProcessArgs.load(arguments_file='args_sandbox', graph_file='Test_Graph_Slightly_Off_the_Beaten_Path.json')"
   ]
  },
  {
   "cell_type": "markdown",
   "id": "9e993a79-99d4-4be6-a6dc-1e7686a9c407",
   "metadata": {
    "id": "9e993a79-99d4-4be6-a6dc-1e7686a9c407"
   },
   "source": [
    "Next, loaded arguments and graph can be wrapped with `Parameters` class which can be further passed to configuration file."
   ]
  },
  {
   "cell_type": "code",
   "execution_count": 10,
   "id": "8c244650-f09d-4c09-a0f9-fa4ee572d1c2",
   "metadata": {
    "id": "8c244650-f09d-4c09-a0f9-fa4ee572d1c2",
    "tags": []
   },
   "outputs": [],
   "source": [
    "params = lgtool.Parameters(pargs.graph,\n",
    "                           budget = pargs.args_trial.budget,\n",
    "                           duration_time = pargs.args_trial.duration,\n",
    "                           cost_rate = pargs.worker_cost_rate\n",
    "                           )\n",
    "\n",
    "cfg = lgtool.Configuration(params)"
   ]
  },
  {
   "cell_type": "markdown",
   "id": "919d4b2a-55a2-4cd5-9780-a7b662a9000d",
   "metadata": {
    "id": "919d4b2a-55a2-4cd5-9780-a7b662a9000d"
   },
   "source": [
    "And that's it! `Configuration` object is the one storing your schedule and the main object you will work with. For more details on how to work with it read further chapters."
   ]
  },
  {
   "cell_type": "markdown",
   "id": "a2025b41-efe0-44b5-8d2d-d3b5570916af",
   "metadata": {
    "id": "a2025b41-efe0-44b5-8d2d-d3b5570916af"
   },
   "source": [
    "## 2. Inspect the Graph"
   ]
  },
  {
   "cell_type": "markdown",
   "id": "7a4fa1cd-7f64-4a61-bfc2-7bc2ddb1e23e",
   "metadata": {
    "id": "7a4fa1cd-7f64-4a61-bfc2-7bc2ddb1e23e"
   },
   "source": [
    "The `lyra_graphtool.Configuration` object contains a graph to be optimized and problem constraints and setup such as budget, duration, and worker's cost rates.  The Configuration object contains `lyra_graphtool.Graph`, an object with useful methods that will be described later in this notebook.\n",
    "\n",
    "Let's view the loaded graph using the print_graph() method as well as budget and time constraints.  The graph, budget, and time pertain to the Sandbox version only."
   ]
  },
  {
   "cell_type": "code",
   "execution_count": 11,
   "id": "3e9056e0-0890-4f47-bbfd-83774d163b2e",
   "metadata": {
    "id": "3e9056e0-0890-4f47-bbfd-83774d163b2e",
    "outputId": "9f00cd9e-c820-49f0-b166-7b2401a27364",
    "tags": []
   },
   "outputs": [
    {
     "name": "stdout",
     "output_type": "stream",
     "text": [
      "Problem budget constraint: 10000.0\n",
      "Problem duration constraint: 20\n",
      "Worker cost rates per timestep: {<Worker_Type.WORKER1: 0>: 100.0, <Worker_Type.WORKER2: 1>: 200.0, <Worker_Type.WORKER3: 2>: 500.0}\n"
     ]
    },
    {
     "data": {
      "image/png": "[encoded data removed]",
      "text/plain": [
       "<Figure size 640x480 with 1 Axes>"
      ]
     },
     "metadata": {},
     "output_type": "display_data"
    }
   ],
   "source": [
    "print(f\"Problem budget constraint: {cfg.budget}\")\n",
    "print(f\"Problem duration constraint: {cfg.duration_time}\")\n",
    "print(f\"Worker cost rates per timestep: {cfg.worker_cost_rate}\")\n",
    "cfg.graph.print_graph()"
   ]
  },
  {
   "cell_type": "markdown",
   "id": "25906624-6a30-447f-a1f5-763e27675f87",
   "metadata": {
    "id": "25906624-6a30-447f-a1f5-763e27675f87",
    "tags": []
   },
   "source": [
    "The 'Configuration' object contains a dictionary under the `config` attribute. Here's its structure.\n",
    "```python\n",
    "{\n",
    "    worker_type_1:\n",
    "        {\n",
    "            worker_1:\n",
    "                {\n",
    "                    timestep_1: Config_Single_Time,\n",
    "                    timestep_2: Config_Single_Time,\n",
    "                    ...\n",
    "                    timestep_n: Config_Single_Time,\n",
    "                },\n",
    "            worker_2:\n",
    "                {\n",
    "                    timestep_1: Config_Single_Time,\n",
    "                    timestep_2: Config_Single_Time,\n",
    "                    ...\n",
    "                    timestep_n: Config_Single_Time,\n",
    "                }\n",
    "            ...\n",
    "            worker_n:\n",
    "                {\n",
    "                    timestep_1: Config_Single_Time,\n",
    "                    timestep_2: Config_Single_Time,\n",
    "                    ...\n",
    "                    timestep_n: Config_Single_Time,\n",
    "                }\n",
    "        }\n",
    "    ...\n",
    "    worker_type_n:\n",
    "        {\n",
    "            worker_1:\n",
    "                {\n",
    "                    timestep_1: Config_Single_Time,\n",
    "                    timestep_2: Config_Single_Time,\n",
    "                    ...\n",
    "                    timestep_n: Config_Single_Time,\n",
    "                },\n",
    "            worker_2:\n",
    "                {\n",
    "                    timestep_1: Config_Single_Time,\n",
    "                    timestep_2: Config_Single_Time,\n",
    "                    ...\n",
    "                    timestep_n: Config_Single_Time,\n",
    "                }\n",
    "            ...\n",
    "            worker_n:\n",
    "                {\n",
    "                    timestep_1: Config_Single_Time,\n",
    "                    timestep_2: Config_Single_Time,\n",
    "                    ...\n",
    "                    timestep_n: Config_Single_Time,\n",
    "                }\n",
    "        }\n",
    "}\n",
    "```\n",
    "\n",
    "The goal of this challenge is to fill this dictionary with the most optimal strategy for extracting rewards within budget and time.  Each timestep has a `Config_Single_Time` object at the beginning.  For example:"
   ]
  },
  {
   "cell_type": "code",
   "execution_count": 12,
   "id": "e62f1481-1956-4c83-a2e7-8410234f9434",
   "metadata": {
    "id": "e62f1481-1956-4c83-a2e7-8410234f9434",
    "outputId": "3dffffb7-b84f-4b08-80f4-a6255d1e3ed8",
    "tags": []
   },
   "outputs": [
    {
     "name": "stdout",
     "output_type": "stream",
     "text": [
      "<lyra_graphtool_test.configuration.Config_Single_Time object at 0x125e45970>\n"
     ]
    },
    {
     "data": {
      "text/plain": [
       "[(None, None), None, False]"
      ]
     },
     "execution_count": 12,
     "metadata": {},
     "output_type": "execute_result"
    }
   ],
   "source": [
    "# The indexes are cfg.config[worker_type][worker_number][timestep]\n",
    "print(cfg.config[Worker_Type.WORKER1][0][0])\n",
    "cfg.config[Worker_Type.WORKER1][0][0].info()"
   ]
  },
  {
   "cell_type": "markdown",
   "id": "c867ef72-47d9-43ae-89b6-b0724af97e90",
   "metadata": {
    "id": "c867ef72-47d9-43ae-89b6-b0724af97e90"
   },
   "source": [
    "Config_Single_Time is expected to be filled with the following information:\\\n",
    "`[(x_coordinate, y_coordinate), vertex_type, is_accessed]`\n",
    "e.g.\n",
    "`[(1, 3), Vertex_Type.SITE1, True]`\n",
    "\n",
    "**Once you are ready with your solution you can save it in `json` format and submit it to Xeek for scoring and updating the Live Leaderboard.**"
   ]
  },
  {
   "cell_type": "code",
   "execution_count": 13,
   "id": "df1debaf-7d6e-4cf4-9548-81ce5e716936",
   "metadata": {
    "id": "df1debaf-7d6e-4cf4-9548-81ce5e716936",
    "tags": []
   },
   "outputs": [],
   "source": [
    "cfg.save_to_json('test_solution.json')"
   ]
  },
  {
   "cell_type": "markdown",
   "id": "02505f34-62b7-401f-9735-12acdf38de73",
   "metadata": {
    "id": "02505f34-62b7-401f-9735-12acdf38de73"
   },
   "source": [
    "## 3. Sample solution - Random Walk\n",
    "\n",
    "Below an example solution of a problem is presented. It's simple **Random Walk** - the logic here is to hire random amount of workers, that will operate for a random amount of time, moving to random positions and accessing sites randomly with given probability. The solution works regardless of given graph and constraints, but obviously does not provide an optimal solution. If you run it couple of times it has a chance of finding a positive profit solution on this graph, but it will fail on the full challenge. It also contains some useful functions and methods, that are described in more detail in [**Off the Beaten Path Challenge**](https://xeek.ai/challenges/off-the-beaten-path) Starter's Notebook."
   ]
  },
  {
   "cell_type": "code",
   "execution_count": 14,
   "id": "a8cfd2c8-5b0d-402d-b722-e1760b6e6691",
   "metadata": {
    "id": "a8cfd2c8-5b0d-402d-b722-e1760b6e6691",
    "tags": []
   },
   "outputs": [],
   "source": [
    "def random_alg(co_orig:lgtool.Configuration, access_probability:int = 0.5) -> int:\n",
    "\n",
    "    # create config with empty scedules; ie all Config_Single_Time = (None, False)\n",
    "    co = deepcopy(co_orig)\n",
    "    worker_types = co.worker_types\n",
    "    for wt in worker_types:\n",
    "        for wn in range(len(co.config[wt])):\n",
    "            for t in range(len(co.config[wt][wn])):\n",
    "                co.config[wt][wn][t] = lgtool.Config_Single_Time()\n",
    "\n",
    "    current_workers = co.get_current_workers(co.config)\n",
    "\n",
    "    available_workers = 0\n",
    "    for wt in worker_types:\n",
    "        available_workers += co.max_workers[wt]\n",
    "\n",
    "    # start all schedules at ORIGIN\n",
    "    v_orig = co.graph.get_vertices_type(lgtool.Vertex_Type.ORIGIN)[0]\n",
    "    cs_orig = lgtool.Config_Single_Time(v = v_orig)\n",
    "\n",
    "    # add workers until exceed budget or no more workers available\n",
    "    cost_config = co.cost()\n",
    "    cost_under_budget = True\n",
    "    while cost_under_budget and available_workers > 0:\n",
    "\n",
    "        # TYPE: choose a random worker type\n",
    "        enough_workers = False\n",
    "        while not enough_workers:\n",
    "            wt_rand = randint(0,len(worker_types)-1)\n",
    "            # can we add one more worker of chosen type?\n",
    "            enough_workers = current_workers[wt_rand] < co.max_workers[wt_rand]\n",
    "\n",
    "        wt = wt_rand                   # worker type\n",
    "        wn = current_workers[wt_rand]  # worker number\n",
    "\n",
    "        sched = deepcopy(co.config[wt][wn])   # schedule to create\n",
    "\n",
    "        w = co.get_worker(wt)\n",
    "\n",
    "        # DURATION\n",
    "        # get random duration and random start time\n",
    "        duration = randint(1, co.duration_time - 1)\n",
    "        time_start = randint(0, co.duration_time - duration - 1)\n",
    "        time_end = time_start + duration\n",
    "\n",
    "        # start at origin\n",
    "        # add to schedule and update cost\n",
    "        sched_or = deepcopy(sched)\n",
    "        sched_or[time_start] = cs_orig\n",
    "        co.config[wt][wn] = sched_or\n",
    "        cost_config = co.cost()\n",
    "\n",
    "        if cost_config > co.budget:\n",
    "            cost_under_budget = False\n",
    "            co.config[wt][wn] = sched    # set sched back to original\n",
    "            continue\n",
    "\n",
    "        # random walk\n",
    "        cs_prev = cs_orig\n",
    "        t = time_start + 1\n",
    "        while t < time_end:\n",
    "\n",
    "            sched = deepcopy(co.config[wt][wn])  # remember current sched\n",
    "\n",
    "            # pick random next vertex\n",
    "            verts_adj = co.graph.adjacent_vertices(cs_prev.v)\n",
    "            ind_next_vert = randint(0, len(verts_adj)-1)\n",
    "            v_next = verts_adj[ind_next_vert]\n",
    "            # ACCESS\n",
    "            if w.access(v_next) and not co.site_accessed_at_time(v_next,t):\n",
    "                p = random.uniform(0,1)\n",
    "                access = True if p <= access_probability else False\n",
    "            else:\n",
    "                access = False\n",
    "\n",
    "            # set next Config_Single_Time's in schedule if accessing\n",
    "            time_to_acq = v_next.time_to_acquire\n",
    "            config_t_set = False     # True when a config is found for this case\n",
    "            if access:\n",
    "                if t + time_to_acq < co.duration_time:\n",
    "                    # enough time to access\n",
    "\n",
    "                    # set up schedule that accesses site\n",
    "                    cs_access = lgtool.Config_Single_Time(v_next, access=True)\n",
    "                    sched_access = deepcopy(sched)\n",
    "                    for ta in range(t, t + time_to_acq):\n",
    "                        sched_access[ta] = deepcopy(cs_access)\n",
    "\n",
    "                    # set config schedule to access: is this within budget AND not being accessed?\n",
    "                    co.config[wt][wn] = sched_access\n",
    "                    feas = co.feasible()\n",
    "\n",
    "                    if feas:\n",
    "                        config_t_set = True\n",
    "                        t += v_next.time_to_acquire    # move forward after access\n",
    "                        cs_prev = deepcopy(cs_access)\n",
    "\n",
    "                    else:\n",
    "                        co.config[wt][wn] = sched      # set back to original undecided sched\n",
    "\n",
    "            if config_t_set == False:  # either not accessing, or not enough time to access\n",
    "                # try no access config\n",
    "                cs_no_access = lgtool.Config_Single_Time(v_next, access=False)\n",
    "                sched_no_access = deepcopy(sched)\n",
    "                sched_no_access[t] = deepcopy(cs_no_access)\n",
    "\n",
    "                co.config[wt][wn] = sched_no_access\n",
    "\n",
    "                within_budget = co.cost() < co.budget\n",
    "\n",
    "                if within_budget:\n",
    "                    config_t_set = True\n",
    "                    t += 1                         # move forward after access\n",
    "                    cs_prev = deepcopy(cs_no_access)\n",
    "                else:\n",
    "                    co.config[wt][wn] = sched      # set back to original undecided sched\n",
    "            if config_t_set == False:   # over budget in every case\n",
    "                cost_under_budget = False    # break out of outside while over workers\n",
    "                break                        # break out of time while\n",
    "\n",
    "        current_workers = co.get_current_workers(co.config) # update count of current workers\n",
    "        available_workers -= 1\n",
    "\n",
    "    if co.cost() > 0:\n",
    "        profit = co.revenue() - co.cost()\n",
    "    else:\n",
    "        profit = None\n",
    "\n",
    "    return profit, co"
   ]
  },
  {
   "cell_type": "code",
   "execution_count": 15,
   "id": "6577a1d5-0f2f-4123-8479-b6a7bf58c4d4",
   "metadata": {
    "id": "6577a1d5-0f2f-4123-8479-b6a7bf58c4d4",
    "outputId": "0559f9ed-4b6e-47ea-89c8-5d607e992bcd",
    "tags": []
   },
   "outputs": [
    {
     "name": "stdout",
     "output_type": "stream",
     "text": [
      "Sites accessed: {(4, 3): 0, (1, 5): 0, (3, 1): 1, (4, 5): 0, (4, 0): 1, (3, 3): 1, (3, 2): 1, (0, 6): 0, (2, 5): 0}\n",
      "Log of accesses:\n",
      "0 number 0 accessed 2 at (3, 3) at time step 3\n",
      "0 number 0 accessed 2 at (3, 1) at time step 13\n",
      "0 number 0 accessed 2 at (4, 0) at time step 14\n",
      "1 number 0 accessed 3 at (3, 2) at time step 5\n",
      "\n",
      "Random configuration PROFIT = -4700.0.\n"
     ]
    }
   ],
   "source": [
    "co = deepcopy(cfg)\n",
    "\n",
    "access_probability = 1    # access a site with| this probability\n",
    "\n",
    "profit, co = random_alg(co, access_probability)\n",
    "random_accesses, random_message = co.get_accessed_sites(co.config)\n",
    "print(f\"Sites accessed: {random_accesses}\")\n",
    "print(random_message)\n",
    "\n",
    "print(f'Random configuration PROFIT = {profit}.')"
   ]
  },
  {
   "cell_type": "markdown",
   "id": "cd0de4e5-02c6-4865-827c-7d9e445b25f6",
   "metadata": {
    "id": "cd0de4e5-02c6-4865-827c-7d9e445b25f6"
   },
   "source": [
    "## 4. Sample Submission\n",
    "\n",
    "Once you are ready with your solution you can save it in `json` format and submit it on challenge web page [Slightly Off the Beaten Path Challenge](https://xeek.ai/challenges/off-the-beaten-path-sandbox)"
   ]
  },
  {
   "cell_type": "code",
   "execution_count": 16,
   "id": "fb6bd70f-4215-49c2-924c-e87df02c3390",
   "metadata": {
    "id": "fb6bd70f-4215-49c2-924c-e87df02c3390",
    "tags": []
   },
   "outputs": [],
   "source": [
    "co.save_to_json(f'solution_{pargs.args_trial.trial_name}.json')"
   ]
  },
  {
   "cell_type": "markdown",
   "id": "1e209cdf-11d9-49e8-ae59-d3bd08be34be",
   "metadata": {
    "id": "1e209cdf-11d9-49e8-ae59-d3bd08be34be"
   },
   "source": [
    "**In order to calculate the score of your solution, use the below block of code. Live Leaderboard and Final Evaluation scores will be calculated in the same way.**"
   ]
  },
  {
   "cell_type": "code",
   "execution_count": 17,
   "id": "ae6002d9-fb25-49bf-a8e4-9d0eb46e37da",
   "metadata": {
    "id": "ae6002d9-fb25-49bf-a8e4-9d0eb46e37da",
    "outputId": "ae987f83-25d1-443e-fb3e-7fb9c41de60a",
    "tags": []
   },
   "outputs": [
    {
     "name": "stdout",
     "output_type": "stream",
     "text": [
      "Configuration's score: 0\n"
     ]
    }
   ],
   "source": [
    "revenue = cfg.revenue()\n",
    "cost = cfg.cost()\n",
    "profit = revenue - cost\n",
    "print(f\"Configuration's score: {profit}\")"
   ]
  },
  {
   "cell_type": "markdown",
   "id": "acfb734a-ca87-4de4-bbad-a3949403695f",
   "metadata": {
    "id": "acfb734a-ca87-4de4-bbad-a3949403695f"
   },
   "source": [
    "**When you feel your solution is ready - submit it. Since you already know the basics of this challenge, we encourage you to tackle the full [Off the Beaten Path Challenge](https://xeek.ai/challenges/off-the-beaten-path)**"
   ]
  },
  {
   "cell_type": "markdown",
   "id": "27dd0b62-ef93-401d-974b-969e651a4b1d",
   "metadata": {
    "id": "27dd0b62-ef93-401d-974b-969e651a4b1d"
   },
   "source": [
    "## 5. Parameters for Test Graph\n",
    "\n",
    "Below is a parameters and constraints for both graph and challenge setup, that are used in argument and graph files provided. The same set of constraints and parameters will be used for testing solutions on leaderboard.\n",
    "\n",
    "* `budget` = 10000 - max amount of resources you can spend on operating workers\n",
    "* `duration` = 20 - max amount of timesteps for a whole simulation\n",
    "* `worker1_cost` = 100 - cost of WORKER1 for each timestep it operates\n",
    "* `worker2_cost` = 200 - cost of WORKER2 for each timestep it operates\n",
    "* `worker3_cost` = 500 - cost of WORKER3 for each timestep it operates\n",
    "* `site1_acquire_time` = 1 - amount of timesteps needed to acquire reward from SITE1\n",
    "* `site2_acquire_time` = 2 - amount of timesteps needed to acquire reward from SITE2\n",
    "* `site3_acquire_time` = 3 - amount of timesteps needed to acquire reward from SITE3\n",
    "* `site1_reward` = 1000 - reward you get from extracting SITE1\n",
    "* `site2_reward` = 2000 - reward you get from extracting SITE2\n",
    "* `site3_reward` = 5000 - reward you get from extracting SITE3"
   ]
  },
  {
   "cell_type": "markdown",
   "id": "32617d06-70fd-4eb0-9224-182ce7cac51b",
   "metadata": {
    "id": "32617d06-70fd-4eb0-9224-182ce7cac51b"
   },
   "source": [
    "## 6. Common errors and mistakes\n",
    "\n",
    "There are a lot of buttons and knobs to push with the `lyra_graphtool`, here are some common error situations you may encounter while building your solution. We did our best for most of the errors raised during usage of `lyra_graphtool` to be self-explanatory, but during your work you may find some that are more ambiguous, below we explain them."
   ]
  },
  {
   "cell_type": "markdown",
   "id": "d34b67fc-4152-4233-ab96-8a00238ff2e6",
   "metadata": {
    "id": "d34b67fc-4152-4233-ab96-8a00238ff2e6"
   },
   "source": [
    "## Submission errors\n",
    "\n",
    "When you submit your solutions you may encounter errors from our website, there are 3 main errors, which your solution may cause:\n",
    "\n",
    "1. `Schedule is not feasible in terms of budget` - it basically means that your solution exceed the given budget, or you may have modified cost related attributes in `Configuration` object - budget or worker costs.\n",
    "2. `Schedule is not feasible in terms of access sites!` - this usually means that at least one of SITEs has been accessed more than one time in your configuration, your worker has lower level than site or didn't access the site for required time (according to site_acquire_time parameter) - check workers rules at the beginning of notebook.\n",
    "3. `Schedule is not spatialy feasible!` - this is the most obfuscated one, because it can have many meanings. It means that one of your workers may not starts it's journey from origin point or it may have moved by distance of 2 in one timestep, basically this error means that your worker moved in a way it shouldn't."
   ]
  },
  {
   "cell_type": "markdown",
   "id": "24357ad9-aefd-49d9-a7de-879a62fb50e3",
   "metadata": {
    "id": "24357ad9-aefd-49d9-a7de-879a62fb50e3"
   },
   "source": [
    "## **APPENDIX:** `Configuration` Class"
   ]
  },
  {
   "cell_type": "markdown",
   "id": "1347ec8b-2bb6-4122-adfa-d051b0980a7d",
   "metadata": {
    "id": "1347ec8b-2bb6-4122-adfa-d051b0980a7d"
   },
   "source": [
    "Many of `Configuration` methods operate either on the whole schedule/configuration, which is a dictionary shown in Chapter 1 and sits under `Configuration.config` attribute or single schedule, which is a dictionary schedule for single worker, that sits under `Configuration.config[worker_type][worker_number]`. In the below list methods taking as argument whole configuration will be marked as **[WS]** and single schedule as **[SS]**.\n",
    "\n",
    "a) `lyra_graphtool.Config_Single_Time.info()` - returns information about Vertex coordinates, type and whether it was accessed or not\\\n",
    "b) `lyra_graphtool.Configuration.get_vertices_start()` - returns vertices of type Vertex_Type.ORIGIN\\\n",
    "c) `lyra_graphtool.Configuration.sched_info(sched: Dict)` - **[SS]** prints information about specific workers schedule in form `[timestep, (x_coordinate, y_coordinate), Vertex_Type, accessed/not accessed]`\\\n",
    "d) `lyra_graphtool.Configuration.get_worker(wt: Worker_Type)` - returns Worker object of specific type, making sure it has proper cost_rate assigned\\\n",
    "e) `lyra_graphtool.Configuration.get_current_workers(config: Dict)` - **[WS]** returns a dictionary of workers that are active in configuration\\\n",
    "f) `lyra_graphtool.Configuration.get_accessed_sites(schedule: Dict)` - **[WS]** returns summary dictionary of accessed sites and a string log of detailed accesses\\\n",
    "g) `lyra_graphtool.Configuration.get_max_revenue()` - returns maximum reward available in current setup\\\n",
    "h) `lyra_graphtool.Configuration.site_accessed_at_time(v: Vertex, t: int)` - provided with Vertex and timestep returns whether the site has been accessed at particular time step\\\n",
    "i) `lyra_graphtool.Configuration.site_accessed(v: Vertex)` - provided with Vertex returns an information whether the site has been accessed at any point in time in schedule\\\n",
    "j) `lyra_graphtool.Configuration.get_sched_path_length(sched: Dict)` - **[SS]** provided with schedule returns it's path length, answers the question: for how many timesteps has the worker been active?\\\n",
    "k) `lyra_graphtool.Configuration.is_empty(sched: Dict)` - **[SS]** returns whether schedule is empty\\\n",
    "l) `lyra_graphtool.Configuration.cost_sched(sched: Dict, worker: Worker)` - **[SS]** returns the cost of a single schedule\\\n",
    "m) `lyra_graphtool.Configuration.cost()` - returns the cost of whole configuration\\\n",
    "n) `lyra_graphtool.Configuration.sched_revenue(sched: Dict)` - **[SS]** returns revenue of single schedule\\\n",
    "o) `lyra_graphtool.Configuration.revenue()` - returns revenue of whole configuration\\\n",
    "p) `lyra_graphtool.Configuration.save_to_json(file_name: str)` - saves solution as `.json` file\\\n",
    "r) `lyra_graphtool.Configuration.load_from_json(file_name: str)` - loads solution from `.json` file\n",
    "\n",
    "Below is the list of methods, that allow you to test your solution for feasibility regarding problem constraints. There are 3 main feasibilities:\n",
    " - space feasibility - is the worker allowed to move chosen path, are all his moves to connected and adjacent vertices? Worker can move only distance of length 1 in 1 timestep\n",
    " - access feasibility - is the worker allowed to access vertex\n",
    " - budget feasibility - do we have enough money to pay all workers\n",
    "\n",
    "a) `lyra_graphtool.Configuration.sched_feasible_space(sched: Dict)` - **[SS]** tests whether single schedule is feasible in terms of space\\\n",
    "b) `lyra_graphtool.Configuration.sched_all_feasible_space()` - tests whether whole configuration is spatialy feasible\\\n",
    "c) `lyra_graphtool.Configuration.sched_feasible_access_sites(sched: Dict, worker_type: Worker_Type)` - **[SS]** tests whether single schedule pass access constraints - one site can be accessed by 1 worker at a time and once the reward is extracted it doesn't contain more reward\\\n",
    "d) `lyra_graphtool.Configuration.sched_all_feasible_access_sites()` - tests whether the whole configuration can pass access constraints\\\n",
    "e) `lyra_graphtool.Configuration.budget_feasible()` - tests whether the whole configuration can pass budget constraints\\\n",
    "f) `lyra_graphtool.Configuration.feasible()` - tests whether the whole configuration is feasible in all terms\n",
    "\n",
    "Below are usage examples of some of the methods on configuration generated by Random Walk algorithm presented above."
   ]
  },
  {
   "cell_type": "markdown",
   "id": "1dea6e48-f442-4916-a284-d784b3087571",
   "metadata": {
    "id": "1dea6e48-f442-4916-a284-d784b3087571"
   },
   "source": [
    "`lyra_graphtool.Configuration.sched_info()` is a very useful method, that lets you examine particular schedule in detail. It's very useful, when you want to see what algorithm generated and what could have went wrong."
   ]
  },
  {
   "cell_type": "code",
   "execution_count": 18,
   "id": "b9a76bc8-0d76-4848-9f6f-c94bfdaf58ed",
   "metadata": {
    "id": "b9a76bc8-0d76-4848-9f6f-c94bfdaf58ed",
    "outputId": "27238b2e-9eff-48b9-8a93-116e5269be50",
    "tags": []
   },
   "outputs": [
    {
     "data": {
      "text/plain": [
       "['[t=0, (None,None), vtype=None, acc=False ]',\n",
       " '[t=1, (3,4), vtype=1, acc=False ]',\n",
       " '[t=2, (4,3), vtype=4, acc=False ]',\n",
       " '[t=3, (3,3), vtype=2, acc=True ]',\n",
       " '[t=4, (4,3), vtype=4, acc=False ]',\n",
       " '[t=5, (3,3), vtype=2, acc=False ]',\n",
       " '[t=6, (3,4), vtype=1, acc=False ]',\n",
       " '[t=7, (4,3), vtype=4, acc=False ]',\n",
       " '[t=8, (3,2), vtype=3, acc=False ]',\n",
       " '[t=9, (3,3), vtype=2, acc=False ]',\n",
       " '[t=10, (3,4), vtype=1, acc=False ]',\n",
       " '[t=11, (3,3), vtype=2, acc=False ]',\n",
       " '[t=12, (3,2), vtype=3, acc=False ]',\n",
       " '[t=13, (3,1), vtype=2, acc=True ]',\n",
       " '[t=14, (4,0), vtype=2, acc=True ]',\n",
       " '[t=15, (None,None), vtype=None, acc=False ]',\n",
       " '[t=16, (None,None), vtype=None, acc=False ]',\n",
       " '[t=17, (None,None), vtype=None, acc=False ]',\n",
       " '[t=18, (None,None), vtype=None, acc=False ]',\n",
       " '[t=19, (None,None), vtype=None, acc=False ]']"
      ]
     },
     "execution_count": 18,
     "metadata": {},
     "output_type": "execute_result"
    }
   ],
   "source": [
    "# indexing config: co.config[worker_type][worker_number]\n",
    "co.sched_info(co.config[Worker_Type.WORKER1][0])"
   ]
  },
  {
   "cell_type": "markdown",
   "id": "aafe4b01-ca2e-4620-8981-56859a83cd6c",
   "metadata": {
    "id": "aafe4b01-ca2e-4620-8981-56859a83cd6c"
   },
   "source": [
    "`lyra_graphtool.Configuration.get_current_workers()` is very useful to follow and access current amount of workers, it structures amount of workers used by type."
   ]
  },
  {
   "cell_type": "code",
   "execution_count": 19,
   "id": "401e7e36-a01d-40ae-ab87-2e024f7fdf4f",
   "metadata": {
    "id": "401e7e36-a01d-40ae-ab87-2e024f7fdf4f",
    "outputId": "8ff66333-8312-4924-ec2b-95359ce7a426",
    "tags": []
   },
   "outputs": [
    {
     "data": {
      "text/plain": [
       "{<Worker_Type.WORKER1: 0>: 4,\n",
       " <Worker_Type.WORKER2: 1>: 3,\n",
       " <Worker_Type.WORKER3: 2>: 1}"
      ]
     },
     "execution_count": 19,
     "metadata": {},
     "output_type": "execute_result"
    }
   ],
   "source": [
    "co.get_current_workers(co.config)"
   ]
  },
  {
   "cell_type": "markdown",
   "id": "be2e3d30-9e8d-4390-9763-64e7a1402b72",
   "metadata": {
    "id": "be2e3d30-9e8d-4390-9763-64e7a1402b72"
   },
   "source": [
    "`lyra_graphtool.Configuration.get_accessed_sites()` is also very useful method for inspecting your solution. Summary dictionary provides the aggregate number of accesses for each Vertex, which not only informs you which of the sites where accessed, but can also help you identify, whether any of them has been accessed more than once, which is a constraint violation.\n",
    "\n",
    "For more detailed debugging of your solution access log is provided, which also tells you at which time step each access happened."
   ]
  },
  {
   "cell_type": "code",
   "execution_count": 20,
   "id": "d533bbfd-1ae4-4c1e-b4df-296c50d807bb",
   "metadata": {
    "id": "d533bbfd-1ae4-4c1e-b4df-296c50d807bb",
    "outputId": "0feefa91-8616-4781-c3c6-e8a358c88e6e",
    "tags": []
   },
   "outputs": [
    {
     "name": "stdout",
     "output_type": "stream",
     "text": [
      "{(4, 3): 0, (1, 5): 0, (3, 1): 1, (4, 5): 0, (4, 0): 1, (3, 3): 1, (3, 2): 1, (0, 6): 0, (2, 5): 0}\n",
      "Log of accesses:\n",
      "0 number 0 accessed 2 at (3, 3) at time step 3\n",
      "0 number 0 accessed 2 at (3, 1) at time step 13\n",
      "0 number 0 accessed 2 at (4, 0) at time step 14\n",
      "1 number 0 accessed 3 at (3, 2) at time step 5\n",
      "\n"
     ]
    }
   ],
   "source": [
    "access_dict, access_logs = co.get_accessed_sites(co.config)\n",
    "print(access_dict)\n",
    "print(access_logs)"
   ]
  },
  {
   "cell_type": "markdown",
   "id": "3beebba9-c0e9-41dd-b9de-9a17bcf3cd71",
   "metadata": {
    "id": "3beebba9-c0e9-41dd-b9de-9a17bcf3cd71"
   },
   "source": [
    "Below we will demonstrate how to use one of the tests, that takes two objects as arguments, which tests whether the access feasibility is met"
   ]
  },
  {
   "cell_type": "code",
   "execution_count": 21,
   "id": "63cb12d6-850b-4075-9167-1dc924f6f1df",
   "metadata": {
    "id": "63cb12d6-850b-4075-9167-1dc924f6f1df",
    "outputId": "a5619f2b-10c2-4792-fd52-82ee968cc844",
    "tags": []
   },
   "outputs": [
    {
     "ename": "TypeError",
     "evalue": "unhashable type: 'Worker'",
     "output_type": "error",
     "traceback": [
      "\u001b[0;31m---------------------------------------------------------------------------\u001b[0m",
      "\u001b[0;31mTypeError\u001b[0m                                 Traceback (most recent call last)",
      "Cell \u001b[0;32mIn[21], line 9\u001b[0m\n\u001b[1;32m      6\u001b[0m schedule \u001b[38;5;241m=\u001b[39m co\u001b[38;5;241m.\u001b[39mconfig[Worker_Type\u001b[38;5;241m.\u001b[39mWORKER2][\u001b[38;5;241m0\u001b[39m]\n\u001b[1;32m      8\u001b[0m \u001b[38;5;66;03m# Run the test\u001b[39;00m\n\u001b[0;32m----> 9\u001b[0m \u001b[43mco\u001b[49m\u001b[38;5;241;43m.\u001b[39;49m\u001b[43msched_feasible_access_sites\u001b[49m\u001b[43m(\u001b[49m\u001b[43mschedule\u001b[49m\u001b[43m,\u001b[49m\u001b[43m \u001b[49m\u001b[43mworker\u001b[49m\u001b[43m)\u001b[49m\n",
      "File \u001b[0;32m/Library/Frameworks/Python.framework/Versions/3.12/lib/python3.12/site-packages/lyra_graphtool_test/configuration.py:534\u001b[0m, in \u001b[0;36mConfiguration.sched_feasible_access_sites\u001b[0;34m(self, sched, worker_type)\u001b[0m\n\u001b[1;32m    531\u001b[0m     sites_accessed\u001b[38;5;241m.\u001b[39mappend(v)\n\u001b[1;32m    533\u001b[0m \u001b[38;5;66;03m# test if worker allowed to access\u001b[39;00m\n\u001b[0;32m--> 534\u001b[0m \u001b[38;5;28;01mif\u001b[39;00m \u001b[38;5;28;43mself\u001b[39;49m\u001b[38;5;241;43m.\u001b[39;49m\u001b[43mget_worker\u001b[49m\u001b[43m(\u001b[49m\u001b[43mworker_type\u001b[49m\u001b[43m)\u001b[49m\u001b[38;5;241m.\u001b[39maccess(v) \u001b[38;5;129;01mis\u001b[39;00m \u001b[38;5;28;01mFalse\u001b[39;00m:\n\u001b[1;32m    535\u001b[0m     \u001b[38;5;28;01mreturn\u001b[39;00m \u001b[38;5;28;01mFalse\u001b[39;00m\n\u001b[1;32m    537\u001b[0m \u001b[38;5;66;03m# test if accessing after expire\u001b[39;00m\n",
      "File \u001b[0;32m/Library/Frameworks/Python.framework/Versions/3.12/lib/python3.12/site-packages/lyra_graphtool_test/configuration.py:204\u001b[0m, in \u001b[0;36mConfiguration.get_worker\u001b[0;34m(self, wt)\u001b[0m\n\u001b[1;32m    194\u001b[0m \u001b[38;5;28;01mdef\u001b[39;00m \u001b[38;5;21mget_worker\u001b[39m(\u001b[38;5;28mself\u001b[39m, wt: Worker_Type) \u001b[38;5;241m-\u001b[39m\u001b[38;5;241m>\u001b[39m Worker:\n\u001b[1;32m    195\u001b[0m \u001b[38;5;250m    \u001b[39m\u001b[38;5;124;03m'''\u001b[39;00m\n\u001b[1;32m    196\u001b[0m \u001b[38;5;124;03m    Method to return Worker object, that has rates compliant with configuration\u001b[39;00m\n\u001b[1;32m    197\u001b[0m \n\u001b[0;32m   (...)\u001b[0m\n\u001b[1;32m    202\u001b[0m \u001b[38;5;124;03m            Worker(class)\u001b[39;00m\n\u001b[1;32m    203\u001b[0m \u001b[38;5;124;03m    '''\u001b[39;00m\n\u001b[0;32m--> 204\u001b[0m     \u001b[38;5;28;01mreturn\u001b[39;00m \u001b[43mWorker\u001b[49m\u001b[43m(\u001b[49m\u001b[43mwt\u001b[49m\u001b[43m,\u001b[49m\u001b[43m \u001b[49m\u001b[43mrates\u001b[49m\u001b[38;5;241;43m=\u001b[39;49m\u001b[38;5;28;43mself\u001b[39;49m\u001b[38;5;241;43m.\u001b[39;49m\u001b[43mworker_cost_rate\u001b[49m\u001b[43m)\u001b[49m\n",
      "File \u001b[0;32m/Library/Frameworks/Python.framework/Versions/3.12/lib/python3.12/site-packages/lyra_graphtool_test/worker.py:32\u001b[0m, in \u001b[0;36mWorker.__init__\u001b[0;34m(self, w_type, rates)\u001b[0m\n\u001b[1;32m     27\u001b[0m \u001b[38;5;250m\u001b[39m\u001b[38;5;124;03m'''\u001b[39;00m\n\u001b[1;32m     28\u001b[0m \u001b[38;5;124;03mObject to set and extract worker type and cost\u001b[39;00m\n\u001b[1;32m     29\u001b[0m \u001b[38;5;124;03m'''\u001b[39;00m\n\u001b[1;32m     31\u001b[0m \u001b[38;5;28mself\u001b[39m\u001b[38;5;241m.\u001b[39mworker_type \u001b[38;5;241m=\u001b[39m w_type\n\u001b[0;32m---> 32\u001b[0m \u001b[38;5;28mself\u001b[39m\u001b[38;5;241m.\u001b[39mworker_cost_rate \u001b[38;5;241m=\u001b[39m \u001b[43mrates\u001b[49m\u001b[43m[\u001b[49m\u001b[43mw_type\u001b[49m\u001b[43m]\u001b[49m \u001b[38;5;129;01mor\u001b[39;00m WORKER_COST_RATE[w_type]\n",
      "\u001b[0;31mTypeError\u001b[0m: unhashable type: 'Worker'"
     ]
    }
   ],
   "source": [
    "# Lets get some worker object from current configuration, e.g. Worker_Type.WORKER2 - depending on the result of Random Walk might not be available\n",
    "# then in order to run this cell change the worker type or rerun the Random Walk until you get desired worker type\n",
    "worker = co.get_worker(Worker_Type.WORKER2)\n",
    "\n",
    "# And also extract a schedule for the first worker from this type\n",
    "schedule = co.config[Worker_Type.WORKER2][0]\n",
    "\n",
    "# Run the test\n",
    "co.sched_feasible_access_sites(schedule, worker)"
   ]
  },
  {
   "cell_type": "markdown",
   "id": "8b93870a-d03c-4efa-9bfd-0b930c828abd",
   "metadata": {
    "id": "8b93870a-d03c-4efa-9bfd-0b930c828abd",
    "tags": []
   },
   "source": [
    "We can see, that Random Walk solution passes this test"
   ]
  },
  {
   "cell_type": "code",
   "execution_count": null,
   "id": "72673cc2-dfb0-4c1f-9641-c98bd27e16d9",
   "metadata": {
    "id": "72673cc2-dfb0-4c1f-9641-c98bd27e16d9"
   },
   "outputs": [],
   "source": []
  }
 ],
 "metadata": {
  "colab": {
   "provenance": []
  },
  "kernelspec": {
   "display_name": "Python 3 (ipykernel)",
   "language": "python",
   "name": "python3"
  },
  "language_info": {
   "codemirror_mode": {
    "name": "ipython",
    "version": 3
   },
   "file_extension": ".py",
   "mimetype": "text/x-python",
   "name": "python",
   "nbconvert_exporter": "python",
   "pygments_lexer": "ipython3",
   "version": "3.12.2"
  }
 },
 "nbformat": 4,
 "nbformat_minor": 5
}
